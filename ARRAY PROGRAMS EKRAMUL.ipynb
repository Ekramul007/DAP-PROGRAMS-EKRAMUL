{
 "cells": [
  {
   "cell_type": "code",
   "execution_count": 1,
   "id": "0437dc45",
   "metadata": {},
   "outputs": [
    {
     "name": "stdout",
     "output_type": "stream",
     "text": [
      "SUM OF ARRAY IS 20\n"
     ]
    }
   ],
   "source": [
    "a = [1,2,3,4,5]\n",
    "n=5\n",
    "sum = sum(a,n)\n",
    "print(\"SUM OF ARRAY IS\",sum)"
   ]
  },
  {
   "cell_type": "code",
   "execution_count": 2,
   "id": "ae114ccf",
   "metadata": {},
   "outputs": [
    {
     "name": "stdout",
     "output_type": "stream",
     "text": [
      "LARGEREST ELEMENT OF ARRAY IS  5\n"
     ]
    }
   ],
   "source": [
    "a = [1,2,3,4,5]\n",
    "n = 5\n",
    "\n",
    "max = a[0]\n",
    "\n",
    "for i in range(0,n):\n",
    "    if(a[i] > max):\n",
    "        max = a[i]\n",
    "        \n",
    "print(\"LARGEREST ELEMENT OF ARRAY IS \",max)\n"
   ]
  },
  {
   "cell_type": "code",
   "execution_count": 5,
   "id": "deb16be2",
   "metadata": {},
   "outputs": [
    {
     "name": "stdout",
     "output_type": "stream",
     "text": [
      "The array is : \n",
      "1\n",
      "2\n",
      "3\n",
      "4\n",
      "5\n",
      "\n",
      "Array after left rotating is : \n",
      "4\n",
      "5\n",
      "1\n",
      "2\n",
      "3\n"
     ]
    }
   ],
   "source": [
    "a = [1,2,3,4,5]\n",
    "n = 3\n",
    "\n",
    "print(\"The array is : \")\n",
    "for i in range(0, len(a)):\n",
    "    print(a[i])\n",
    "\n",
    "for i in range(0, n):\n",
    "    first = a[0]\n",
    "\n",
    "    for j in range(0, len(a)-1):\n",
    "        a[j] = a[j+1]\n",
    "        \n",
    "    a[len(a)-1] = first\n",
    "\n",
    "print()\n",
    "\n",
    "print(\"Array after left rotating is : \")\n",
    "for i in range(0, len(a)):\n",
    "    print(a[i])"
   ]
  },
  {
   "cell_type": "code",
   "execution_count": 8,
   "id": "bbf844a3",
   "metadata": {},
   "outputs": [
    {
     "name": "stdout",
     "output_type": "stream",
     "text": [
      "The array is:\n",
      "1\n",
      "2\n",
      "3\n",
      "4\n",
      "5\n",
      "\n",
      "Array after left rotating is:\n",
      "4\n",
      "5\n",
      "1\n",
      "2\n",
      "3\n"
     ]
    }
   ],
   "source": [
    "a = [1, 2, 3, 4, 5]\n",
    "n = 3\n",
    "\n",
    "print(\"The array is:\")\n",
    "for i in range(len(a)):\n",
    "    print(a[i])\n",
    "\n",
    "    \n",
    "for _ in range(n):\n",
    "    first = a[0]\n",
    "    for j in range(len(a) - 1):\n",
    "        a[j] = a[j + 1]\n",
    "    a[len(a) - 1] = first\n",
    "\n",
    "print(\"\\nArray after left rotating is:\")\n",
    "for i in range(len(a)):\n",
    "    print(a[i])\n"
   ]
  },
  {
   "cell_type": "code",
   "execution_count": 11,
   "id": "062c7ce9",
   "metadata": {},
   "outputs": [
    {
     "name": "stdout",
     "output_type": "stream",
     "text": [
      "3 4 5 1 2 "
     ]
    }
   ],
   "source": [
    "a = [1,2,3,4,5]\n",
    "n = len(a)\n",
    "pos = 2\n",
    "x = a[:pos]\n",
    "y = a[pos:]\n",
    "y.extend(x)\n",
    "for i in y:\n",
    "    print(i, end=\" \")"
   ]
  },
  {
   "cell_type": "code",
   "execution_count": 19,
   "id": "b0c2a84d",
   "metadata": {},
   "outputs": [
    {
     "name": "stdout",
     "output_type": "stream",
     "text": [
      "The remainder is: 4\n"
     ]
    }
   ],
   "source": [
    "a = [6,7,8,9]\n",
    "n = 5\n",
    "\n",
    "result = 1\n",
    "for num in a:\n",
    "    result = (result * num) % n\n",
    "\n",
    "print(\"The remainder is:\", result)\n"
   ]
  },
  {
   "cell_type": "code",
   "execution_count": 21,
   "id": "0bc45e29",
   "metadata": {},
   "outputs": [
    {
     "name": "stdout",
     "output_type": "stream",
     "text": [
      "array is not monotonic.\n"
     ]
    }
   ],
   "source": [
    "a = [1,2,7,4,5]\n",
    "\n",
    "inc = dec = True\n",
    "\n",
    "for i in range(1, len(a)):\n",
    "    if a[i] < a[i - 1]:\n",
    "        inc = False\n",
    "    if a[i] > a[i - 1]:\n",
    "        dec = False\n",
    "\n",
    "if inc or dec:\n",
    "    print(\"array is monotonic.\")\n",
    "else:\n",
    "    print(\"array is not monotonic.\")\n"
   ]
  },
  {
   "cell_type": "code",
   "execution_count": null,
   "id": "cf9bf24e",
   "metadata": {},
   "outputs": [],
   "source": []
  }
 ],
 "metadata": {
  "kernelspec": {
   "display_name": "Python 3 (ipykernel)",
   "language": "python",
   "name": "python3"
  },
  "language_info": {
   "codemirror_mode": {
    "name": "ipython",
    "version": 3
   },
   "file_extension": ".py",
   "mimetype": "text/x-python",
   "name": "python",
   "nbconvert_exporter": "python",
   "pygments_lexer": "ipython3",
   "version": "3.11.1"
  }
 },
 "nbformat": 4,
 "nbformat_minor": 5
}
