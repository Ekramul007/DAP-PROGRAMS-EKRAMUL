{
 "cells": [
  {
   "cell_type": "code",
   "execution_count": 6,
   "id": "8284a3cd",
   "metadata": {},
   "outputs": [
    {
     "name": "stdout",
     "output_type": "stream",
     "text": [
      "ENTER THE VALUE OF A = 10\n",
      "ENTER THE VALUE OF B = 20\n",
      "THE SUM OF A AND B IS = 30\n"
     ]
    }
   ],
   "source": [
    "\n",
    "a = eval(input(\"ENTER THE VALUE OF A = \"));\n",
    "b = eval(input(\"ENTER THE VALUE OF B = \"));\n",
    "\n",
    "c = a+b;\n",
    "\n",
    "print(\"THE SUM OF A AND B IS =\",c);"
   ]
  },
  {
   "cell_type": "code",
   "execution_count": 8,
   "id": "6dd864cf",
   "metadata": {},
   "outputs": [
    {
     "name": "stdout",
     "output_type": "stream",
     "text": [
      "ENTER THE VALUE OF A = 30\n",
      "ENTER THE VALUE OF B = 10\n",
      "A IS GREATER\n"
     ]
    }
   ],
   "source": [
    "a = eval(input(\"ENTER THE VALUE OF A = \"));\n",
    "b = eval(input(\"ENTER THE VALUE OF B = \"));\n",
    "\n",
    "if (a>b):\n",
    "    print(\"A IS GREATER\");\n",
    "else:\n",
    "    print(\"B IS GREATER\");"
   ]
  },
  {
   "cell_type": "code",
   "execution_count": 17,
   "id": "d4ba6c1c",
   "metadata": {},
   "outputs": [
    {
     "name": "stdout",
     "output_type": "stream",
     "text": [
      "Enter a number: 10\n",
      "Factorial is = 3628800\n"
     ]
    }
   ],
   "source": [
    "n = eval(input(\"Enter a number: \"))\n",
    "\n",
    "fact = 1\n",
    "for i in range(1,n+1):\n",
    "    fact = fact * i;\n",
    "\n",
    "print(\"Factorial is =\", fact)\n"
   ]
  },
  {
   "cell_type": "code",
   "execution_count": 19,
   "id": "f70d655c",
   "metadata": {},
   "outputs": [
    {
     "name": "stdout",
     "output_type": "stream",
     "text": [
      "ENTER THE VALUE OF PRINCIPLE = 20\n",
      "ENTER THE VALUE OF RATE = 10\n",
      "ENTER THE VALUE OF TIME = 3\n",
      "SIMPLE INREST IS  6.0\n"
     ]
    }
   ],
   "source": [
    "p = eval(input(\"ENTER THE VALUE OF PRINCIPLE = \"))\n",
    "r = eval(input(\"ENTER THE VALUE OF RATE = \"))\n",
    "t = eval(input(\"ENTER THE VALUE OF TIME = \"))\n",
    "\n",
    "d = p*r*t\n",
    "s=d/100\n",
    "\n",
    "print(\"SIMPLE INTREST IS \",s);"
   ]
  },
  {
   "cell_type": "code",
   "execution_count": 23,
   "id": "c066d39d",
   "metadata": {},
   "outputs": [
    {
     "name": "stdout",
     "output_type": "stream",
     "text": [
      "ENTER THE VALUE OF PRINCIPLE = 10\n",
      "ENTER THE VALUE OF RATE = 3\n",
      "ENTER THE VALUE OF NUMBER OF TIMES OF YEARS = 2\n",
      "ENTER THE VALUE OF YEAR = 3\n",
      "COMPOUND INTREST =  2441.40625\n"
     ]
    }
   ],
   "source": [
    "P = eval(input(\"ENTER THE VALUE OF PRINCIPLE = \"))\n",
    "R = eval(input(\"ENTER THE VALUE OF RATE = \"))\n",
    "N = eval(input(\"ENTER THE VALUE OF NUMBER OF TIMES OF YEARS = \"))\n",
    "T = eval(input(\"ENTER THE VALUE OF YEAR = \"))\n",
    "\n",
    "D = R/N\n",
    "E = 1+D\n",
    "F = N*T\n",
    "G = E**F\n",
    "C = P*G\n",
    "\n",
    "print(\"COMPOUND INTREST = \",C);"
   ]
  },
  {
   "cell_type": "code",
   "execution_count": 2,
   "id": "0d45d80a",
   "metadata": {},
   "outputs": [
    {
     "name": "stdout",
     "output_type": "stream",
     "text": [
      "ENTER THE VALUE OF N - 153\n",
      "The given number 153 is an Armstrong number\n"
     ]
    }
   ],
   "source": [
    "n = int(input(\"ENTER THE VALUE OF N - \"))  \n",
    "\n",
    "b = len(str(n))\n",
    "s = n  \n",
    "sum = 0\n",
    "temp = n  \n",
    "\n",
    "while temp != 0:  \n",
    "    digit = temp % 10\n",
    "    sum += digit ** b\n",
    "    temp //= 10\n",
    "\n",
    "if s == sum:\n",
    "    print(\"The given number\", s, \"is an Armstrong number\")\n",
    "else:\n",
    "    print(\"The given number\", s, \"is not an Armstrong number\")\n"
   ]
  },
  {
   "cell_type": "code",
   "execution_count": 2,
   "id": "1bb1811f",
   "metadata": {},
   "outputs": [
    {
     "name": "stdout",
     "output_type": "stream",
     "text": [
      "ENTER THE RADIUS OF CIRCLE = 2\n",
      "AREA OF CIRCLE IS  12.56 sqcm\n"
     ]
    }
   ],
   "source": [
    "r = eval(input(\"ENTER THE RADIUS OF CIRCLE = \"))\n",
    "\n",
    "a = 3.14 * r * r\n",
    "\n",
    "print(\"AREA OF CIRCLE IS \",a,\"sqcm\")"
   ]
  },
  {
   "cell_type": "code",
   "execution_count": 3,
   "id": "fdc6d576",
   "metadata": {},
   "outputs": [
    {
     "name": "stdout",
     "output_type": "stream",
     "text": [
      "ENTER THE NUMBER TILL YOU WANT PRIME NUMBERS = 100\n",
      "2,3,5,7,11,13,17,19,23,29,31,37,41,43,47,53,59,61,67,71,73,79,83,89,97,"
     ]
    }
   ],
   "source": [
    "n = eval(input(\"ENTER THE NUMBER TILL YOU WANT PRIME NUMBERS = \"))\n",
    "for i in range(2,n+1): \n",
    "    for j in range(2,n+1):\n",
    "        if i%j == 0:\n",
    "            break\n",
    "    if i == j:\n",
    "        print(i,end=\",\")\n",
    "    "
   ]
  },
  {
   "cell_type": "code",
   "execution_count": 10,
   "id": "1680d89d",
   "metadata": {},
   "outputs": [
    {
     "name": "stdout",
     "output_type": "stream",
     "text": [
      "ENTER THE VALUE OF N = 12\n",
      "12 is not a prime number\n"
     ]
    }
   ],
   "source": [
    "n = eval(input(\"ENTER THE VALUE OF N = \"))\n",
    "\n",
    "for i in range(2, int (n/2)+1):\n",
    "    if(n%i==0):\n",
    "        print(n,\"is not a prime number\")\n",
    "        break\n",
    "    else:\n",
    "        print(n,\"is prime number\")\n",
    "        break\n",
    "    "
   ]
  },
  {
   "cell_type": "code",
   "execution_count": 3,
   "id": "afe3b085",
   "metadata": {},
   "outputs": [
    {
     "name": "stdout",
     "output_type": "stream",
     "text": [
      "ENTER THE NUMBER = 34\n",
      "Yes\n"
     ]
    }
   ],
   "source": [
    "n = eval(input(\"ENTER THE NUMBER = \"))\n",
    "c = 0\n",
    "a = 1 \n",
    "b = 1\n",
    "\n",
    "if n==0 or n==1:\n",
    "    print(\"YES\")\n",
    "else:\n",
    "    while c<n:\n",
    "        c = a+b\n",
    "        b = a\n",
    "        a = c\n",
    "    \n",
    "    if c==n:\n",
    "        print(\"Yes\")\n",
    "    else:\n",
    "        print(\"No\")"
   ]
  },
  {
   "cell_type": "code",
   "execution_count": 4,
   "id": "0074fa76",
   "metadata": {},
   "outputs": [
    {
     "name": "stdout",
     "output_type": "stream",
     "text": [
      "Enter the value of n: 34\n",
      "Enter the number to find its nth multiple in Fibonacci series: 3\n",
      "The 0th multiple of 3 in the Fibonacci series is: 11825896447871834976429068427\n"
     ]
    }
   ],
   "source": [
    "fib = [0, 1]\n",
    "n = int(input(\"Enter the value of n: \"))\n",
    "num = int(input(\"Enter the number to find its nth multiple in Fibonacci series: \"))\n",
    "\n",
    "count = 2\n",
    "while True:\n",
    "    fib.append(fib[count - 1] + fib[count - 2])\n",
    "    if fib[-1] % num == 0:\n",
    "        n -= 1\n",
    "        if n == 0:\n",
    "            print(f\"The {n}th multiple of {num} in the Fibonacci series is: {fib[-1]}\")\n",
    "            break\n",
    "    count += 1\n"
   ]
  },
  {
   "cell_type": "code",
   "execution_count": 5,
   "id": "fb13209a",
   "metadata": {},
   "outputs": [
    {
     "name": "stdout",
     "output_type": "stream",
     "text": [
      "Enter a character: B\n",
      "The ASCII value of 'B' is: 66\n"
     ]
    }
   ],
   "source": [
    "character = input(\"Enter a character: \")\n",
    "\n",
    "ascii_value = ord(character)\n",
    "\n",
    "print(f\"The ASCII value of '{character}' is: {ascii_value}\")\n"
   ]
  },
  {
   "cell_type": "code",
   "execution_count": 6,
   "id": "d209ca25",
   "metadata": {},
   "outputs": [
    {
     "name": "stdout",
     "output_type": "stream",
     "text": [
      "Enter the value of n: 3\n",
      "The sum of squares of first 3 natural numbers is: 14\n"
     ]
    }
   ],
   "source": [
    "def sum_of_squares(n):\n",
    "    sum = 0\n",
    "    for i in range(1, n + 1):\n",
    "        sum += i ** 2\n",
    "    return sum\n",
    "\n",
    "if __name__ == \"__main__\":\n",
    "    n = int(input(\"Enter the value of n: \"))\n",
    "    result = sum_of_squares(n)\n",
    "    print(f\"The sum of squares of first {n} natural numbers is: {result}\")\n"
   ]
  },
  {
   "cell_type": "code",
   "execution_count": 7,
   "id": "2003a524",
   "metadata": {},
   "outputs": [
    {
     "name": "stdout",
     "output_type": "stream",
     "text": [
      "Enter the value of n: 3\n",
      "The sum of cubes of the first 3 natural numbers is: 36\n"
     ]
    }
   ],
   "source": [
    "def cube_sum(n):\n",
    "    sum = 0\n",
    "    for i in range(1, n + 1):\n",
    "        sum += i ** 3\n",
    "    return sum\n",
    "\n",
    "if __name__ == \"__main__\":\n",
    "    n = int(input(\"Enter the value of n: \"))\n",
    "    result = cube_sum(n)\n",
    "    print(f\"The sum of cubes of the first {n} natural numbers is: {result}\")\n"
   ]
  },
  {
   "cell_type": "code",
   "execution_count": null,
   "id": "84bc6c68",
   "metadata": {},
   "outputs": [],
   "source": []
  }
 ],
 "metadata": {
  "kernelspec": {
   "display_name": "Python 3 (ipykernel)",
   "language": "python",
   "name": "python3"
  },
  "language_info": {
   "codemirror_mode": {
    "name": "ipython",
    "version": 3
   },
   "file_extension": ".py",
   "mimetype": "text/x-python",
   "name": "python",
   "nbconvert_exporter": "python",
   "pygments_lexer": "ipython3",
   "version": "3.11.1"
  }
 },
 "nbformat": 4,
 "nbformat_minor": 5
}
